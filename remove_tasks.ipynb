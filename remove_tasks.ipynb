{
 "cells": [
  {
   "cell_type": "code",
   "execution_count": 7,
   "id": "3c8a6c0b-d88a-4ed6-b50d-9b4c70af958a",
   "metadata": {
    "execution": {
     "iopub.execute_input": "2023-03-24T20:26:27.262877Z",
     "iopub.status.busy": "2023-03-24T20:26:27.261866Z",
     "iopub.status.idle": "2023-03-24T20:28:14.298287Z",
     "shell.execute_reply": "2023-03-24T20:28:14.296310Z",
     "shell.execute_reply.started": "2023-03-24T20:26:27.262877Z"
    },
    "tags": []
   },
   "outputs": [],
   "source": [
    "dataset = 'German'\n",
    "task_filter={\n",
    "    # filter out archived Tasks\n",
    "    'system_tags': ['-archived'],\n",
    "    # only completed & published Tasks\n",
    "    'status': ['completed'],\n",
    "    # only training type Tasks\n",
    "    'type': ['training']\n",
    "}\n",
    "tags = [dataset]\n",
    "task_list_remove = Task.get_tasks(\n",
    "    task_ids=None,  # type Optional[Sequence[str]]\n",
    "    project_name=\"AI Fairness\",  # Optional[str]\n",
    "    task_name=None,  # Optional[str]\n",
    "    task_filter=task_filter,\n",
    "    tags=tags# Optional[Dict]\n",
    ")"
   ]
  },
  {
   "cell_type": "code",
   "execution_count": 10,
   "id": "0fc42e30-7b26-48f1-98fb-2074e02627a6",
   "metadata": {
    "execution": {
     "iopub.execute_input": "2023-03-24T20:38:35.666338Z",
     "iopub.status.busy": "2023-03-24T20:38:35.666338Z",
     "iopub.status.idle": "2023-03-24T20:38:35.676559Z",
     "shell.execute_reply": "2023-03-24T20:38:35.675360Z",
     "shell.execute_reply.started": "2023-03-24T20:38:35.666338Z"
    },
    "tags": []
   },
   "outputs": [
    {
     "data": {
      "text/plain": [
       "180"
      ]
     },
     "execution_count": 10,
     "metadata": {},
     "output_type": "execute_result"
    }
   ],
   "source": [
    "len(task_list_remove)"
   ]
  },
  {
   "cell_type": "code",
   "execution_count": 11,
   "id": "f46ec173-1abc-4637-b3ba-4c81e14ba4c4",
   "metadata": {
    "execution": {
     "iopub.execute_input": "2023-03-24T20:38:39.511858Z",
     "iopub.status.busy": "2023-03-24T20:38:39.510869Z",
     "iopub.status.idle": "2023-03-24T21:03:48.819494Z",
     "shell.execute_reply": "2023-03-24T21:03:48.817504Z",
     "shell.execute_reply.started": "2023-03-24T20:38:39.511858Z"
    },
    "tags": []
   },
   "outputs": [
    {
     "name": "stderr",
     "output_type": "stream",
     "text": [
      " 33%|████████████████████████████████████████████████▎                                                                                                | 60/180 [06:16<13:39,  6.83s/it]"
     ]
    },
    {
     "name": "stdout",
     "output_type": "stream",
     "text": [
      "2023-03-24 23:49:59,056 - clearml.Task - ERROR - Action failed <400/101: tasks.delete/v1.0 (Invalid task id: id=5e3c9c9de8494c40a0500936e3fa575f, company=424f44d059d64c0580efd4cd340242ee)> (move_to_trash=False, force=True, task=5e3c9c9de8494c40a0500936e3fa575f)\n",
      "2023-03-24 23:49:59,058 - clearml.Task - ERROR - Task deletion failed: Action failed <400/101: tasks.delete/v1.0 (Invalid task id: id=5e3c9c9de8494c40a0500936e3fa575f, company=424f44d059d64c0580efd4cd340242ee)> (move_to_trash=False, force=True, task=5e3c9c9de8494c40a0500936e3fa575f)\n"
     ]
    },
    {
     "name": "stderr",
     "output_type": "stream",
     "text": [
      "100%|████████████████████████████████████████████████████████████████████████████████████████████████████████████████████████████████████████████████| 180/180 [25:09<00:00,  8.38s/it]\n"
     ]
    }
   ],
   "source": [
    "from tqdm import tqdm\n",
    "for i in tqdm(task_list_remove):\n",
    "    try:\n",
    "        i.delete()\n",
    "    except Exception:\n",
    "        pass"
   ]
  },
  {
   "cell_type": "code",
   "execution_count": null,
   "id": "436e59f3-191f-450b-a68b-665407d902a4",
   "metadata": {},
   "outputs": [],
   "source": []
  }
 ],
 "metadata": {
  "kernelspec": {
   "display_name": "Python 3 (ipykernel)",
   "language": "python",
   "name": "python3"
  },
  "language_info": {
   "codemirror_mode": {
    "name": "ipython",
    "version": 3
   },
   "file_extension": ".py",
   "mimetype": "text/x-python",
   "name": "python",
   "nbconvert_exporter": "python",
   "pygments_lexer": "ipython3",
   "version": "3.10.9"
  }
 },
 "nbformat": 4,
 "nbformat_minor": 5
}
