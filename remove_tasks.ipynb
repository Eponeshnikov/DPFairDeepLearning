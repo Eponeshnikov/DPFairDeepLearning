{
 "cells": [
  {
   "cell_type": "code",
   "execution_count": null,
   "id": "071cded5-4721-4e76-ae27-caac0809cc64",
   "metadata": {
    "tags": []
   },
   "outputs": [],
   "source": [
    "from clearml import Task\n",
    "from tqdm import tqdm"
   ]
  },
  {
   "cell_type": "code",
   "execution_count": null,
   "id": "3c8a6c0b-d88a-4ed6-b50d-9b4c70af958a",
   "metadata": {
    "tags": []
   },
   "outputs": [],
   "source": [
    "dataset = 'German'\n",
    "task_filter={\n",
    "    # filter out archived Tasks\n",
    "    'system_tags': ['-archived'],\n",
    "    # only completed & published Tasks\n",
    "    'status': ['completed'],\n",
    "    # only training type Tasks\n",
    "    'type': ['training']\n",
    "}\n",
    "tags = []\n",
    "task_list_remove = Task.get_tasks(\n",
    "    task_ids=None,  # type Optional[Sequence[str]]\n",
    "    project_name=\"AI Fairness\",  # Optional[str]\n",
    "    task_name=None,  # Optional[str]\n",
    "    task_filter=task_filter,\n",
    "    tags=tags# Optional[Dict]\n",
    ")"
   ]
  },
  {
   "cell_type": "code",
   "execution_count": null,
   "id": "0fc42e30-7b26-48f1-98fb-2074e02627a6",
   "metadata": {
    "tags": []
   },
   "outputs": [],
   "source": [
    "len(task_list_remove)"
   ]
  },
  {
   "cell_type": "code",
   "execution_count": null,
   "id": "f46ec173-1abc-4637-b3ba-4c81e14ba4c4",
   "metadata": {
    "tags": []
   },
   "outputs": [],
   "source": [
    "for i in tqdm(task_list_remove):\n",
    "    try:\n",
    "        i.delete()\n",
    "    except Exception:\n",
    "        pass"
   ]
  },
  {
   "cell_type": "code",
   "execution_count": null,
   "id": "436e59f3-191f-450b-a68b-665407d902a4",
   "metadata": {},
   "outputs": [],
   "source": []
  }
 ],
 "metadata": {
  "kernelspec": {
   "display_name": "Python 3 (ipykernel)",
   "language": "python",
   "name": "python3"
  },
  "language_info": {
   "codemirror_mode": {
    "name": "ipython",
    "version": 3
   },
   "file_extension": ".py",
   "mimetype": "text/x-python",
   "name": "python",
   "nbconvert_exporter": "python",
   "pygments_lexer": "ipython3",
   "version": "3.10.9"
  }
 },
 "nbformat": 4,
 "nbformat_minor": 5
}
