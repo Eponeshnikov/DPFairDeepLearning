{
 "cells": [
  {
   "cell_type": "code",
   "execution_count": 48,
   "id": "2504d298-067e-4467-af90-747cfe66889d",
   "metadata": {
    "execution": {
     "iopub.execute_input": "2022-02-26T18:17:08.036354Z",
     "iopub.status.busy": "2022-02-26T18:17:08.035366Z",
     "iopub.status.idle": "2022-02-26T18:18:50.094193Z",
     "shell.execute_reply": "2022-02-26T18:18:50.093211Z",
     "shell.execute_reply.started": "2022-02-26T18:17:08.036354Z"
    },
    "tags": []
   },
   "outputs": [],
   "source": [
    "from clearml import Task\n",
    "\n",
    "dataset = 'German'\n",
    "task_filter={\n",
    "    # filter out archived Tasks\n",
    "    'system_tags': ['-archived'],\n",
    "    # only completed & published Tasks\n",
    "    'status': ['completed'],\n",
    "    # only training type Tasks\n",
    "    'type': ['training']\n",
    "}\n",
    "tags = [dataset]\n",
    "task_list = Task.get_tasks(\n",
    "    task_ids=None,  # type Optional[Sequence[str]]\n",
    "    project_name=\"AI Fairness\",  # Optional[str]\n",
    "    task_name=None,  # Optional[str]\n",
    "    task_filter=task_filter,  # Optional[Dict]\n",
    "    tags=tags\n",
    ")\n",
    "\n",
    "\n",
    "\n"
   ]
  },
  {
   "cell_type": "code",
   "execution_count": 117,
   "id": "a930cc51-1e99-439e-9bd8-e4b3652f12ae",
   "metadata": {
    "execution": {
     "iopub.execute_input": "2022-02-26T21:51:16.965300Z",
     "iopub.status.busy": "2022-02-26T21:51:16.964326Z",
     "iopub.status.idle": "2022-02-26T21:51:16.972304Z",
     "shell.execute_reply": "2022-02-26T21:51:16.970750Z",
     "shell.execute_reply.started": "2022-02-26T21:51:16.965300Z"
    },
    "tags": []
   },
   "outputs": [],
   "source": [
    "MAX_GRAD_NORMS = [1, 0.01]\n",
    "EPSILONS = [11.5, 3.2, 0.96, 0.72]\n",
    "components = ['', 'autoencoder', 'adversary', 'classifier']"
   ]
  },
  {
   "cell_type": "code",
   "execution_count": 125,
   "id": "af74dddb-6a21-476e-b10a-97cb9ed85054",
   "metadata": {
    "execution": {
     "iopub.execute_input": "2022-02-26T22:00:51.808113Z",
     "iopub.status.busy": "2022-02-26T22:00:51.807114Z",
     "iopub.status.idle": "2022-02-26T22:02:54.391751Z",
     "shell.execute_reply": "2022-02-26T22:02:54.389748Z",
     "shell.execute_reply.started": "2022-02-26T22:00:51.808113Z"
    },
    "tags": []
   },
   "outputs": [
    {
     "name": "stdout",
     "output_type": "stream",
     "text": [
      "MAX_GRAD_NORM: 0 component:  eps: 0 best epoch: 200\n",
      "MAX_GRAD_NORM: 1 component: autoencoder eps: 11.5 best epoch: 193\n",
      "MAX_GRAD_NORM: 1 component: autoencoder eps: 3.2 best epoch: 249\n",
      "MAX_GRAD_NORM: 1 component: autoencoder eps: 0.96 best epoch: 249\n",
      "MAX_GRAD_NORM: 1 component: autoencoder eps: 0.72 best epoch: 249\n",
      "MAX_GRAD_NORM: 1 component: adversary eps: 11.5 best epoch: 215\n",
      "MAX_GRAD_NORM: 1 component: adversary eps: 3.2 best epoch: 195\n",
      "MAX_GRAD_NORM: 1 component: adversary eps: 0.96 best epoch: 195\n",
      "MAX_GRAD_NORM: 1 component: adversary eps: 0.72 best epoch: 117\n",
      "MAX_GRAD_NORM: 1 component: classifier eps: 11.5 best epoch: 50\n",
      "MAX_GRAD_NORM: 1 component: classifier eps: 3.2 best epoch: 67\n",
      "MAX_GRAD_NORM: 1 component: classifier eps: 0.96 best epoch: 97\n",
      "MAX_GRAD_NORM: 1 component: classifier eps: 0.72 best epoch: 123\n",
      "MAX_GRAD_NORM: 0.01 component: autoencoder eps: 11.5 best epoch: 249\n",
      "MAX_GRAD_NORM: 0.01 component: autoencoder eps: 3.2 best epoch: 249\n",
      "MAX_GRAD_NORM: 0.01 component: autoencoder eps: 0.96 best epoch: 249\n",
      "MAX_GRAD_NORM: 0.01 component: autoencoder eps: 0.72 best epoch: 249\n",
      "MAX_GRAD_NORM: 0.01 component: adversary eps: 11.5 best epoch: 192\n",
      "MAX_GRAD_NORM: 0.01 component: adversary eps: 3.2 best epoch: 131\n",
      "MAX_GRAD_NORM: 0.01 component: adversary eps: 0.96 best epoch: 185\n",
      "MAX_GRAD_NORM: 0.01 component: adversary eps: 0.72 best epoch: 168\n",
      "MAX_GRAD_NORM: 0.01 component: classifier eps: 11.5 best epoch: 50\n",
      "MAX_GRAD_NORM: 0.01 component: classifier eps: 3.2 best epoch: 50\n",
      "MAX_GRAD_NORM: 0.01 component: classifier eps: 0.96 best epoch: 59\n",
      "MAX_GRAD_NORM: 0.01 component: classifier eps: 0.72 best epoch: 71\n"
     ]
    }
   ],
   "source": [
    "import matplotlib.pyplot as plt\n",
    "import numpy as np\n",
    "best_epochs = {}\n",
    "acc = {}\n",
    "dp = {}\n",
    "eod = {}\n",
    "eop = {}\n",
    "no_privacy = True\n",
    "for MAX_GRAD_NORM_ in MAX_GRAD_NORMS:\n",
    "    best_epoch_comp = {}\n",
    "    acc_comp = {}\n",
    "    dp_comp = {}\n",
    "    eop_comp = {}\n",
    "    eod_comp = {}\n",
    "    for component in components:\n",
    "        best_epoch_eps = {}\n",
    "        acc_list = {}\n",
    "        dp_list = {}\n",
    "        eop_list = {}\n",
    "        eod_list = {}\n",
    "        for EPSILON_ in EPSILONS:\n",
    "            MAX_GRAD_NORM = MAX_GRAD_NORM_\n",
    "            EPSILON = EPSILON_\n",
    "            l = [i.get_reported_scalars() for i in task_list if\n",
    "                 'grad_norm='+str(MAX_GRAD_NORM) in i.data.tags and\n",
    "                 component in i.data.tags and\n",
    "                 \"ε=\"+str(EPSILON) in i.data.tags\n",
    "                ]\n",
    "            if len(component) == 0:\n",
    "                if no_privacy:\n",
    "                    l = [i.get_reported_scalars() for i in task_list if\n",
    "                     'autoencoder' not in i.data.tags and\n",
    "                     'adversary' not in i.data.tags and\n",
    "                     'classifier' not in i.data.tags\n",
    "                    ]\n",
    "                    MAX_GRAD_NORM = 0\n",
    "                    EPSILON = 0\n",
    "                    no_privacy = False\n",
    "                else:\n",
    "                    continue\n",
    "            adv = [i['Adversary Loss']['test loss']['y'] for i in l]\n",
    "            adv_mean = np.array(adv[0])\n",
    "            \n",
    "            cl = [i['Classifier Loss']['test loss']['y'] for i in l]\n",
    "            cl_mean = np.array(cl[0])\n",
    "            \n",
    "            \n",
    "            for i in range(1, len(adv)):\n",
    "                adv_mean += np.array(adv[i])\n",
    "                cl_mean += np.array(cl[i])\n",
    "            adv_mean = np.array(adv_mean)\n",
    "            cl_mean = np.array(cl_mean)\n",
    "            adv_mean /= len(adv)\n",
    "            cl_mean /= len(cl)\n",
    "            \n",
    "\n",
    "            w = int(len(adv_mean)*0.5)\n",
    "            sm_y_adv = []\n",
    "            sm_y_cl = []\n",
    "            for i in range(len(adv_mean) - w):\n",
    "                value = np.mean(adv_mean[i:i+w])\n",
    "                sm_y_adv.append(value)\n",
    "                value = np.mean(cl_mean[i:i+w])\n",
    "                sm_y_cl.append(value)\n",
    "            adv_epoch = np.argmax(sm_y_adv)\n",
    "            cl_epoch = np.argmin(sm_y_cl)\n",
    "            epoch_ = min(adv_epoch, cl_epoch)\n",
    "            epoch_ = max(epoch_, 50)\n",
    "            print('MAX_GRAD_NORM:', MAX_GRAD_NORM, 'component:', component, 'eps:', EPSILON, 'best epoch:', epoch_)\n",
    "            acc_, acc_unfair = [i['Accuracy']['LFR']['y'][epoch_] for i in l], [i['Accuracy']['Unfair']['y'][epoch_] for i in l]\n",
    "            dp_, dp_unfair = [i['ΔDP']['LFR']['y'][epoch_] for i in l], [i['ΔDP']['Unfair']['y'][epoch_] for i in l] \n",
    "            eod_, eod_unfair = [i['ΔEOD']['LFR']['y'][epoch_] for i in l], [i['ΔEOD']['Unfair']['y'][epoch_] for i in l] \n",
    "            eop_, eop_unfair = [i['ΔEOP']['LFR']['y'][epoch_] for i in l], [i['ΔEOP']['Unfair']['y'][epoch_] for i in l]\n",
    "            \n",
    "            acc_list[EPSILON] = (np.mean(acc_), np.std(acc_, ddof=1), np.mean(acc_unfair))\n",
    "            dp_list[EPSILON] = (np.mean(dp_), np.std(dp_, ddof=1), np.mean(dp_unfair))\n",
    "            eod_list[EPSILON] = (np.mean(eod_), np.std(eod_, ddof=1), np.mean(eod_unfair))\n",
    "            eop_list[EPSILON] = (np.mean(eop_), np.std(eop_, ddof=1), np.mean(eop_unfair))\n",
    "            \n",
    "            best_epoch_eps[EPSILON] = epoch_\n",
    "            \n",
    "        acc_comp[component] = acc_list\n",
    "        dp_comp[component] = dp_list\n",
    "        eod_comp[component] = eod_list\n",
    "        eop_comp[component] = eop_list\n",
    "        \n",
    "        best_epoch_comp[component] = best_epoch_eps\n",
    "        \n",
    "    acc[MAX_GRAD_NORM] = acc_comp\n",
    "    dp[MAX_GRAD_NORM] = dp_comp\n",
    "    eop[MAX_GRAD_NORM] = eop_comp\n",
    "    eod[MAX_GRAD_NORM] = eod_comp\n",
    "    best_epochs[MAX_GRAD_NORM] = best_epoch_comp\n"
   ]
  },
  {
   "cell_type": "code",
   "execution_count": 139,
   "id": "04a07454-997a-40eb-84e6-74579c17c6bd",
   "metadata": {
    "execution": {
     "iopub.execute_input": "2022-02-26T22:08:41.856341Z",
     "iopub.status.busy": "2022-02-26T22:08:41.855335Z",
     "iopub.status.idle": "2022-02-26T22:08:41.878524Z",
     "shell.execute_reply": "2022-02-26T22:08:41.877550Z",
     "shell.execute_reply.started": "2022-02-26T22:08:41.855335Z"
    },
    "tags": []
   },
   "outputs": [
    {
     "name": "stdout",
     "output_type": "stream",
     "text": [
      "{11.5: (0.7293333530426025, 0.004944127609638427, 0.753333330154419), 3.2: (0.728000009059906, 0.014643929500216236, 0.753333330154419), 0.96: (0.7333333492279053, 0.01615891744769518, 0.753333330154419), 0.72: (0.7360000133514404, 0.007958216667988136, 0.753333330154419)}\n"
     ]
    }
   ],
   "source": [
    "print(acc[1]['autoencoder'])"
   ]
  },
  {
   "cell_type": "code",
   "execution_count": 143,
   "id": "c8033e6e-22da-42b6-9e5e-a051a4b72c0a",
   "metadata": {
    "execution": {
     "iopub.execute_input": "2022-02-26T22:14:55.259955Z",
     "iopub.status.busy": "2022-02-26T22:14:55.258979Z",
     "iopub.status.idle": "2022-02-26T22:14:55.300960Z",
     "shell.execute_reply": "2022-02-26T22:14:55.298966Z",
     "shell.execute_reply.started": "2022-02-26T22:14:55.259955Z"
    },
    "tags": []
   },
   "outputs": [
    {
     "ename": "SyntaxError",
     "evalue": "invalid syntax (Temp/ipykernel_40852/1760724550.py, line 36)",
     "output_type": "error",
     "traceback": [
      "\u001b[1;36m  File \u001b[1;32m\"C:\\Users\\sasha\\AppData\\Local\\Temp/ipykernel_40852/1760724550.py\"\u001b[1;36m, line \u001b[1;32m36\u001b[0m\n\u001b[1;33m    title = labels[p] + \"\\n MAX_GRAD_NORM=\" + str(MAX_GRAD_NORM) + \", Privacy in \" + component if len(EPSILONS_) > 1\u001b[0m\n\u001b[1;37m                                                                                                                    ^\u001b[0m\n\u001b[1;31mSyntaxError\u001b[0m\u001b[1;31m:\u001b[0m invalid syntax\n"
     ]
    }
   ],
   "source": [
    "import matplotlib\n",
    "%matplotlib inline\n",
    "no_privacy = True\n",
    "for MAX_GRAD_NORM_ in MAX_GRAD_NORMS:\n",
    "    for component in components:\n",
    "        MAX_GRAD_NORM = MAX_GRAD_NORM_\n",
    "        EPSILONS_ = EPSILONS\n",
    "        if len(component) == 0:\n",
    "            if no_privacy:\n",
    "                EPSILONS_ = [0]\n",
    "                no_privacy = False\n",
    "            else:\n",
    "                continue\n",
    "        labels = [\"Accuracy\", \"$\\Delta_{DP}$\", '$\\Delta_{EOP}$', '$\\Delta_{EOD}$']\n",
    "        y = [\n",
    "            [acc[MAX_GRAD_NORM][component][EPSILON][0] for EPSILON in sorted(EPSILONS_)],\n",
    "            [dp[MAX_GRAD_NORM][component][EPSILON][0] for EPSILON in sorted(EPSILONS_)],\n",
    "            [eop[MAX_GRAD_NORM][component][EPSILON][0] for EPSILON in sorted(EPSILONS_)],\n",
    "            [eod[MAX_GRAD_NORM][component][EPSILON][0] for EPSILON in sorted(EPSILONS_)]\n",
    "        ]\n",
    "        std = [\n",
    "            [acc[MAX_GRAD_NORM][component][EPSILON][1] for EPSILON in sorted(EPSILONS_)],\n",
    "            [dp[MAX_GRAD_NORM][component][EPSILON][1] for EPSILON in sorted(EPSILONS_)],\n",
    "            [eop[MAX_GRAD_NORM][component][EPSILON][1] for EPSILON in sorted(EPSILONS_)],\n",
    "            [eod[MAX_GRAD_NORM][component][EPSILON][1] for EPSILON in sorted(EPSILONS_)]\n",
    "        ]\n",
    "        unfair = [\n",
    "            [acc[MAX_GRAD_NORM][component][EPSILON][2] for EPSILON in sorted(EPSILONS_)],\n",
    "            [dp[MAX_GRAD_NORM][component][EPSILON][2] for EPSILON in sorted(EPSILONS_)],\n",
    "            [eop[MAX_GRAD_NORM][component][EPSILON][2] for EPSILON in sorted(EPSILONS_)],\n",
    "            [eod[MAX_GRAD_NORM][component][EPSILON][2] for EPSILON in sorted(EPSILONS_)]\n",
    "        ]\n",
    "        for p in range(len(y)):\n",
    "            fig, ax = plt.subplots(ncols=1, nrows=1, figsize=(7, 4))\n",
    "            ax.bar(sorted(EPSILONS_), y[p], 0.2, yerr=std[p], label=labels[p])\n",
    "            title = labels[p] + \"\\n MAX_GRAD_NORM=\" + str(MAX_GRAD_NORM) + \", Privacy in \" + component if len(EPSILONS_) > 1\n",
    "            else labels[p] + \"\\n No privacy\"\n",
    "            ax.set_title(title)\n",
    "            ax.plot(sorted(EPSILONS_), unfair[p], label=\"Unfair\", linestyle='dotted')\n",
    "            ax.legend()\n",
    "            plt.show()\n",
    "            \n",
    "\n",
    "            \n",
    "            "
   ]
  },
  {
   "cell_type": "code",
   "execution_count": null,
   "id": "d68128e2-69c9-4c41-a42e-e223d6dee6f5",
   "metadata": {},
   "outputs": [],
   "source": []
  }
 ],
 "metadata": {
  "kernelspec": {
   "display_name": "Python 3 (ipykernel)",
   "language": "python",
   "name": "python3"
  },
  "language_info": {
   "codemirror_mode": {
    "name": "ipython",
    "version": 3
   },
   "file_extension": ".py",
   "mimetype": "text/x-python",
   "name": "python",
   "nbconvert_exporter": "python",
   "pygments_lexer": "ipython3",
   "version": "3.9.9"
  }
 },
 "nbformat": 4,
 "nbformat_minor": 5
}
