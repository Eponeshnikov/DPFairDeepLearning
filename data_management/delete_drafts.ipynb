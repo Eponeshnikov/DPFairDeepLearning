{
 "cells": [
  {
   "cell_type": "code",
   "execution_count": null,
   "id": "eb8de5b4-ce32-464a-9295-b4709b2e05c9",
   "metadata": {
    "tags": []
   },
   "outputs": [],
   "source": [
    "from clearml import Task, TaskTypes\n",
    "import time\n",
    "import datetime\n",
    "from dateutil.tz import tzutc\n",
    "import configparser\n",
    "import json"
   ]
  },
  {
   "cell_type": "code",
   "execution_count": null,
   "id": "8852e829-6a4d-4328-a8c3-45d7a51f5c14",
   "metadata": {
    "tags": []
   },
   "outputs": [],
   "source": [
    "def get_credentials(dir_, file):\n",
    "    if file is not None:\n",
    "        config = configparser.ConfigParser()\n",
    "        config.read(f'{dir_}/{file}.conf')\n",
    "\n",
    "        # Get the values of the different settings\n",
    "        api_server_ = config.get('settings', 'api_server')\n",
    "        web_server_ = config.get('settings', 'web_server')\n",
    "        files_server_ = config.get('settings', 'files_server')\n",
    "\n",
    "        # Parse the credentials JSON string\n",
    "        credentials_json = config.get('settings', 'credentials')\n",
    "        credentials = json.loads(credentials_json)\n",
    "        access_key_ = credentials['access_key']\n",
    "        secret_key_ = credentials['secret_key']\n",
    "        return api_server_, web_server_, files_server_, access_key_, secret_key_\n",
    "    else:\n",
    "        return None, None, None, None, None"
   ]
  },
  {
   "cell_type": "code",
   "execution_count": null,
   "id": "0f6729db-4699-4ce1-87bb-dcb5d40f7b94",
   "metadata": {
    "tags": []
   },
   "outputs": [],
   "source": [
    "configuration = {\n",
    "    'config_dir': 'configs',\n",
    "    'server': None,\n",
    "    'time_threshold': 60,\n",
    "    'project_name': \"AI Fairness\",\n",
    "    'task_filter': {'system_tags': ['archived']}\n",
    "}"
   ]
  },
  {
   "cell_type": "code",
   "execution_count": null,
   "id": "f1c8c1d3-6924-44b8-825a-e849bafff303",
   "metadata": {
    "tags": []
   },
   "outputs": [],
   "source": [
    "api_server, web_server, files_server, access_key, secret_key = get_credentials(configuration['config_dir'],\n",
    "                                                                               configuration['server'])\n",
    "if api_server is not None:\n",
    "    Task.set_credentials(\n",
    "        api_host=api_server, web_host=web_server, files_host=files_server,\n",
    "        key=access_key, secret=secret_key\n",
    "    )\n",
    "else:\n",
    "    print('Use default clearml.conf')"
   ]
  },
  {
   "cell_type": "code",
   "execution_count": null,
   "id": "d08da598-ed4c-47bf-ba77-a8c9967eaf56",
   "metadata": {
    "tags": []
   },
   "outputs": [],
   "source": [
    "# Set up the ClearML task\n",
    "task = Task.init(project_name='Automation', task_name='Archive Drafts Tasks Deleting', task_type=TaskTypes.service)\n",
    "task.connect(configuration)\n",
    "\n",
    "\n",
    "# Define a function to check the status of a task and delete it if it has been in 'created' status for more than the\n",
    "# time threshold\n",
    "def check_and_delete_task(task_id, time_threshold):\n",
    "    current_time = datetime.datetime.utcnow().replace(tzinfo=tzutc())\n",
    "    task_to_check = Task.get_task(task_id=task_id)\n",
    "    if task_to_check.status == 'created' and (\n",
    "            current_time - task_to_check.export_task()['last_change']).total_seconds() > time_threshold:\n",
    "        print(f\"Task {task_id} has been in 'created' status for more than {time_threshold} seconds. Deleting task...\")\n",
    "        task_to_check.delete()\n",
    "        print(f\"Task {task_id} deleted.\")\n",
    "\n",
    "\n",
    "def archive_and_delete_tasks(project_name, task_filter, time_threshold):\n",
    "    # Get all archived tasks in the project\n",
    "    archived_tasks = Task.get_tasks(project_name=project_name, task_filter=task_filter)\n",
    "    # Loop through each task in the archive dataset\n",
    "    for task_ in archived_tasks:\n",
    "        check_and_delete_task(task_.id, time_threshold)"
   ]
  },
  {
   "cell_type": "code",
   "execution_count": null,
   "id": "f5693a0f-edcb-40af-bb4d-5221d205da22",
   "metadata": {
    "tags": []
   },
   "outputs": [],
   "source": [
    "# Call the archive_and_delete_tasks function\n",
    "while True:\n",
    "    archive_and_delete_tasks(configuration['project_name'], configuration['task_filter'],\n",
    "                             configuration['time_threshold'])\n",
    "    time.sleep(30)"
   ]
  },
  {
   "cell_type": "code",
   "execution_count": null,
   "id": "56be9e29-63e4-4bca-a750-ec24d31766f5",
   "metadata": {},
   "outputs": [],
   "source": []
  }
 ],
 "metadata": {
  "kernelspec": {
   "display_name": "Python 3 (ipykernel)",
   "language": "python",
   "name": "python3"
  },
  "language_info": {
   "codemirror_mode": {
    "name": "ipython",
    "version": 3
   },
   "file_extension": ".py",
   "mimetype": "text/x-python",
   "name": "python",
   "nbconvert_exporter": "python",
   "pygments_lexer": "ipython3",
   "version": "3.10.9"
  }
 },
 "nbformat": 4,
 "nbformat_minor": 5
}
