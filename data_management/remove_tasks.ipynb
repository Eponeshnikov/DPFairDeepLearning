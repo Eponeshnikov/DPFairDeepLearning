{
 "cells": [
  {
   "cell_type": "code",
   "execution_count": null,
   "id": "071cded5-4721-4e76-ae27-caac0809cc64",
   "metadata": {
    "tags": []
   },
   "outputs": [],
   "source": [
    "from clearml import Task\n",
    "from tqdm import tqdm\n",
    "import configparser\n",
    "import json"
   ]
  },
  {
   "cell_type": "code",
   "execution_count": null,
   "id": "e4e46a55-3c7b-47fe-97dc-027b5ec7e186",
   "metadata": {
    "tags": []
   },
   "outputs": [],
   "source": [
    "def get_credentials(dir_, file):\n",
    "    if file is not None:\n",
    "        config = configparser.ConfigParser()\n",
    "        config.read(f'{dir_}/{file}.conf')\n",
    "\n",
    "        # Get the values of the different settings\n",
    "        api_server = config.get('settings', 'api_server')\n",
    "        web_server = config.get('settings', 'web_server')\n",
    "        files_server = config.get('settings', 'files_server')\n",
    "\n",
    "        # Parse the credentials JSON string\n",
    "        credentials_json = config.get('settings', 'credentials')\n",
    "        credentials = json.loads(credentials_json)\n",
    "        access_key = credentials['access_key']\n",
    "        secret_key = credentials['secret_key']\n",
    "        return api_server, web_server, files_server, access_key, secret_key\n",
    "    else:\n",
    "        return None, None, None, None, None"
   ]
  },
  {
   "cell_type": "code",
   "execution_count": null,
   "id": "d574072f-cdb5-435c-9463-1038670a8c79",
   "metadata": {
    "tags": []
   },
   "outputs": [],
   "source": [
    "config_dir = '../configs'\n",
    "server = 'remote_server'"
   ]
  },
  {
   "cell_type": "code",
   "execution_count": null,
   "id": "319a50e2-67e8-44e2-962a-f02c816a8d9c",
   "metadata": {
    "tags": []
   },
   "outputs": [],
   "source": [
    "api_server, web_server, files_server, access_key, secret_key = get_credentials(config_dir, server)\n",
    "if api_server is not None:\n",
    "    Task.set_credentials(\n",
    "        api_host=api_server, web_host=web_server, files_host=files_server,\n",
    "        key=access_key, secret=secret_key\n",
    "     )\n",
    "else:\n",
    "    print('Use default clearml.conf')"
   ]
  },
  {
   "cell_type": "code",
   "execution_count": null,
   "id": "3c8a6c0b-d88a-4ed6-b50d-9b4c70af958a",
   "metadata": {
    "tags": []
   },
   "outputs": [],
   "source": [
    "task_filter={\n",
    "    # filter out archived Tasks\n",
    "    'system_tags': ['-archived'],\n",
    "    # only completed & published Tasks\n",
    "    'status': ['completed'],\n",
    "    # only training type Tasks\n",
    "    'type': ['training']\n",
    "}\n",
    "tags = []\n",
    "task_ids = None\n",
    "project_name = \"AI Fairness\"\n",
    "task_name = None\n",
    "\n",
    "task_list_remove = Task.get_tasks(\n",
    "    task_ids=task_ids,  # type Optional[Sequence[str]]\n",
    "    project_name=project_name,  # Optional[str]\n",
    "    task_name=task_name,  # Optional[str]\n",
    "    task_filter=task_filter,\n",
    "    tags=tags# Optional[Dict]\n",
    ")"
   ]
  },
  {
   "cell_type": "code",
   "execution_count": null,
   "id": "0fc42e30-7b26-48f1-98fb-2074e02627a6",
   "metadata": {
    "tags": []
   },
   "outputs": [],
   "source": [
    "len(task_list_remove)"
   ]
  },
  {
   "cell_type": "code",
   "execution_count": null,
   "id": "f46ec173-1abc-4637-b3ba-4c81e14ba4c4",
   "metadata": {
    "tags": []
   },
   "outputs": [],
   "source": [
    "print('!!! Dangerous !!!!')\n",
    "inp = input('Type \"1\" for deleting')\n",
    "if inp == '1':\n",
    "    print('Deleting tasks ...')\n",
    "    for i in tqdm(task_list_remove):\n",
    "        try:\n",
    "            i.delete()\n",
    "        except Exception:\n",
    "            pass\n",
    "    print('Finished!')\n",
    "else:\n",
    "    print('Canceled')"
   ]
  },
  {
   "cell_type": "code",
   "execution_count": null,
   "id": "436e59f3-191f-450b-a68b-665407d902a4",
   "metadata": {},
   "outputs": [],
   "source": []
  }
 ],
 "metadata": {
  "kernelspec": {
   "display_name": "Python 3 (ipykernel)",
   "language": "python",
   "name": "python3"
  },
  "language_info": {
   "codemirror_mode": {
    "name": "ipython",
    "version": 3
   },
   "file_extension": ".py",
   "mimetype": "text/x-python",
   "name": "python",
   "nbconvert_exporter": "python",
   "pygments_lexer": "ipython3",
   "version": "3.10.9"
  }
 },
 "nbformat": 4,
 "nbformat_minor": 5
}
