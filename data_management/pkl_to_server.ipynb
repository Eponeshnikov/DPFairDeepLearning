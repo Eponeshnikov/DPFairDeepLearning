{
 "cells": [
  {
   "cell_type": "code",
   "execution_count": null,
   "id": "404b3640-8b76-4d2e-901e-92517c379fc0",
   "metadata": {
    "tags": []
   },
   "outputs": [],
   "source": [
    "from clearml import Task, Logger\n",
    "import pickle\n",
    "import os\n",
    "import configparser\n",
    "import json\n",
    "from tqdm import tqdm\n",
    "import io\n",
    "from contextlib import redirect_stdout\n",
    "import sys\n",
    "from pathlib import Path\n",
    "sys.path.append(str(Path.cwd().parent))\n",
    "from task_processing import read_local_pkl"
   ]
  },
  {
   "cell_type": "code",
   "execution_count": null,
   "id": "7b307279-31c9-4204-b575-e3f0b04d709d",
   "metadata": {
    "tags": []
   },
   "outputs": [],
   "source": [
    "def get_credentials(dir_, file):\n",
    "    if file is not None:\n",
    "        config = configparser.ConfigParser()\n",
    "        config.read(f'{dir_}/{file}.conf')\n",
    "\n",
    "        # Get the values of the different settings\n",
    "        api_server = config.get('settings', 'api_server')\n",
    "        web_server = config.get('settings', 'web_server')\n",
    "        files_server = config.get('settings', 'files_server')\n",
    "\n",
    "        # Parse the credentials JSON string\n",
    "        credentials_json = config.get('settings', 'credentials')\n",
    "        credentials = json.loads(credentials_json)\n",
    "        access_key = credentials['access_key']\n",
    "        secret_key = credentials['secret_key']\n",
    "        return api_server, web_server, files_server, access_key, secret_key\n",
    "    else:\n",
    "        return None, None, None, None, None"
   ]
  },
  {
   "cell_type": "code",
   "execution_count": null,
   "id": "ec9f9945-9857-4f55-8523-f851a6fd2f81",
   "metadata": {
    "tags": []
   },
   "outputs": [],
   "source": [
    "def write2server(root, files, project_name='Test', force=False):\n",
    "    if all(['data_dict.pkl' in files, 'params.pkl' in files, 'scalars.pkl' in files]):\n",
    "        trap = io.StringIO()\n",
    "        with redirect_stdout(trap):\n",
    "            data_dict, params, scalars = read_local_pkl(root)\n",
    "            if 'imported' not in data_dict['system_tags'] or force:\n",
    "                data_dict['system_tags'] = list(set(data_dict['system_tags'] + ['imported']))\n",
    "                task = Task.init(project_name=project_name, task_name=data_dict['name'])\n",
    "                task.add_tags(data_dict['tags'] + ['imported'])\n",
    "                _ = task.connect(params['Args'])\n",
    "                task.set_comment(data_dict['comment'])\n",
    "                for graph in scalars:\n",
    "                    for scalar in scalars[graph]:\n",
    "                        for val_x, val_y in zip(scalars[graph][scalar]['x'], scalars[graph][scalar]['y']):\n",
    "                            Logger.current_logger().report_scalar(graph, scalar, val_y, val_x)\n",
    "                if 'archived' in data_dict['system_tags']:\n",
    "                    task.set_archived(True)\n",
    "                task.close()\n",
    "                with open(f\"{root}/data_dict.pkl\", 'wb') as f:\n",
    "                    pickle.dump(data_dict, f)\n",
    "            "
   ]
  },
  {
   "cell_type": "code",
   "execution_count": null,
   "id": "db4ef44c-6d44-4f4d-a6c5-51c0ea8e1096",
   "metadata": {
    "tags": []
   },
   "outputs": [],
   "source": [
    "configuration = {\n",
    "    'config_dir': '../configs',\n",
    "    'server': 'local_server',\n",
    "    'force': False,\n",
    "    'project_name': \"AI Fairness\"\n",
    "}"
   ]
  },
  {
   "cell_type": "code",
   "execution_count": null,
   "id": "4fbe2555-b8ef-4fc8-a5e6-fc9f69759510",
   "metadata": {
    "tags": []
   },
   "outputs": [],
   "source": [
    "api_server, web_server, files_server, access_key, secret_key = get_credentials(configuration['config_dir'], configuration['server'])\n",
    "if api_server is not None:\n",
    "    Task.set_credentials(\n",
    "        api_host=api_server, web_host=web_server, files_host=files_server,\n",
    "        key=access_key, secret=secret_key\n",
    "     )\n",
    "else:\n",
    "    print('Use default clearml.conf')"
   ]
  },
  {
   "cell_type": "code",
   "execution_count": null,
   "id": "3489d445-b10f-4aa0-881e-b4314047c157",
   "metadata": {
    "tags": []
   },
   "outputs": [],
   "source": [
    "for root, dirs, files in tqdm(os.walk('../saved_tasks'), total=len(list(os.walk('../saved_tasks')))):\n",
    "    write2server(root, files, configuration['project_name'], configuration['force'])"
   ]
  },
  {
   "cell_type": "code",
   "execution_count": null,
   "id": "bd7a5309-124d-4d24-926d-db6030de42f2",
   "metadata": {},
   "outputs": [],
   "source": []
  }
 ],
 "metadata": {
  "kernelspec": {
   "display_name": "Python 3 (ipykernel)",
   "language": "python",
   "name": "python3"
  },
  "language_info": {
   "codemirror_mode": {
    "name": "ipython",
    "version": 3
   },
   "file_extension": ".py",
   "mimetype": "text/x-python",
   "name": "python",
   "nbconvert_exporter": "python",
   "pygments_lexer": "ipython3",
   "version": "3.10.9"
  }
 },
 "nbformat": 4,
 "nbformat_minor": 5
}
