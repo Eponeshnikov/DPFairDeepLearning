{
 "cells": [
  {
   "cell_type": "code",
   "execution_count": null,
   "id": "0a6bcaee-fc0a-4dff-b679-7b3e34729b05",
   "metadata": {
    "tags": []
   },
   "outputs": [],
   "source": [
    "from clearml import Task\n",
    "import configparser\n",
    "import shutil\n",
    "import json\n",
    "import sys\n",
    "from pathlib import Path\n",
    "sys.path.append(str(Path.cwd().parent))\n",
    "from task_processing import remote2local, save_tasks, LocalTask"
   ]
  },
  {
   "cell_type": "code",
   "execution_count": null,
   "id": "3c9a0da9-a8d1-4526-92ad-c05dd559a456",
   "metadata": {
    "tags": []
   },
   "outputs": [],
   "source": [
    "def get_credentials(dir_, file):\n",
    "    if file is not None:\n",
    "        config = configparser.ConfigParser()\n",
    "        config.read(f'{dir_}/{file}.conf')\n",
    "\n",
    "        # Get the values of the different settings\n",
    "        api_server = config.get('settings', 'api_server')\n",
    "        web_server = config.get('settings', 'web_server')\n",
    "        files_server = config.get('settings', 'files_server')\n",
    "\n",
    "        # Parse the credentials JSON string\n",
    "        credentials_json = config.get('settings', 'credentials')\n",
    "        credentials = json.loads(credentials_json)\n",
    "        access_key = credentials['access_key']\n",
    "        secret_key = credentials['secret_key']\n",
    "        return api_server, web_server, files_server, access_key, secret_key\n",
    "    else:\n",
    "        return None, None, None, None, None"
   ]
  },
  {
   "cell_type": "code",
   "execution_count": null,
   "id": "a2b036ee-74db-4d5d-9920-fcac7675f885",
   "metadata": {
    "tags": []
   },
   "outputs": [],
   "source": [
    "configuration = {\n",
    "    'config_dir': '../configs',\n",
    "    'server': 'local_server',\n",
    "    'project_name': \"AI Fairness\",\n",
    "    'status': ['completed'],\n",
    "    'type': ['training'],\n",
    "    'system_tags': ['-archived'],\n",
    "    'tags': [],\n",
    "    'task_ids': None,\n",
    "    'task_name': None\n",
    "}"
   ]
  },
  {
   "cell_type": "code",
   "execution_count": null,
   "id": "62be4793-0c87-481a-9646-d6a51cdb87f0",
   "metadata": {
    "tags": []
   },
   "outputs": [],
   "source": [
    "api_server, web_server, files_server, access_key, secret_key = get_credentials(configuration['config_dir'], configuration['server'])\n",
    "if api_server is not None:\n",
    "    Task.set_credentials(\n",
    "        api_host=api_server, web_host=web_server, files_host=files_server,\n",
    "        key=access_key, secret=secret_key\n",
    "     )\n",
    "else:\n",
    "    print('Use default clearml.conf')"
   ]
  },
  {
   "cell_type": "code",
   "execution_count": null,
   "id": "9ba5187f-ed69-4f2c-a210-3d26a8fcdfe8",
   "metadata": {
    "tags": []
   },
   "outputs": [],
   "source": [
    "task_filter={\n",
    "    # filter out archived Tasks\n",
    "    'system_tags': configuration['system_tags'],\n",
    "    # only completed & published Tasks\n",
    "    'status': configuration['status'],\n",
    "    # only training type Tasks\n",
    "    'type': configuration['type']\n",
    "}\n",
    "tags = configuration['tags']\n",
    "task_ids = configuration['task_ids']\n",
    "project_name = configuration['project_name']\n",
    "task_name = configuration['task_name']\n",
    "\n",
    "task_list_ = Task.get_tasks(\n",
    "    task_ids=task_ids,  # type Optional[Sequence[str]]\n",
    "    project_name=project_name,  # Optional[str]\n",
    "    task_name=task_name,  # Optional[str]\n",
    "    task_filter=task_filter,\n",
    "    tags=tags# Optional[Dict]\n",
    ")"
   ]
  },
  {
   "cell_type": "code",
   "execution_count": null,
   "id": "b71ca3f4-3348-480d-8e14-17c24da51040",
   "metadata": {
    "tags": []
   },
   "outputs": [],
   "source": [
    "len(task_list_)"
   ]
  },
  {
   "cell_type": "code",
   "execution_count": null,
   "id": "efb5a6ca-319a-446a-9061-ec4dc44b2601",
   "metadata": {
    "tags": []
   },
   "outputs": [],
   "source": [
    "task_list = remote2local(task_list_)"
   ]
  },
  {
   "cell_type": "code",
   "execution_count": null,
   "id": "f384ef0c-24be-4f0f-b279-651c5b1fa81b",
   "metadata": {
    "tags": []
   },
   "outputs": [],
   "source": [
    "shutil.copytree('../saved_tasks', '../saved_tasks_backup')"
   ]
  },
  {
   "cell_type": "code",
   "execution_count": null,
   "id": "11bbbdab-50f1-4f82-b189-eb71e1e2ce02",
   "metadata": {
    "tags": []
   },
   "outputs": [],
   "source": [
    "save_tasks(task_list, add_imported_tag=True)"
   ]
  },
  {
   "cell_type": "code",
   "execution_count": null,
   "id": "939494b4-c6c1-41a5-b4fd-67fa42175bfa",
   "metadata": {},
   "outputs": [],
   "source": []
  }
 ],
 "metadata": {
  "kernelspec": {
   "display_name": "Python 3 (ipykernel)",
   "language": "python",
   "name": "python3"
  },
  "language_info": {
   "codemirror_mode": {
    "name": "ipython",
    "version": 3
   },
   "file_extension": ".py",
   "mimetype": "text/x-python",
   "name": "python",
   "nbconvert_exporter": "python",
   "pygments_lexer": "ipython3",
   "version": "3.10.9"
  }
 },
 "nbformat": 4,
 "nbformat_minor": 5
}
